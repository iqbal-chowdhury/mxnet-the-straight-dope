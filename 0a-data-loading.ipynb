{
 "cells": [
  {
   "cell_type": "markdown",
   "metadata": {},
   "source": [
    "# Loading general data\n",
    "\n",
    "On the previous tutorials, e.g. [linear regression](3a-linear-regression-scratch.ipynb#Data-iterators), we shown how to use [NDArrayIter](http://mxnet.io/api/python/io.html#mxnet.io.NDArrayIter). We will introduce more iterators in this tutorial. \n",
    "\n",
    "## What is an iterator\n",
    "\n",
    "\n",
    "In this tutorial, we will cover more about how to load data\n",
    "\n",
    "## Iterators\n",
    "\n",
    "A data iterator scans one dataset to return *k*, which is called batch size, examples each time. The following example creates a *5-by-2* matrix and iterates over it with batch size 3. "
   ]
  },
  {
   "cell_type": "code",
   "execution_count": 2,
   "metadata": {
    "scrolled": true
   },
   "outputs": [
    {
     "name": "stdout",
     "output_type": "stream",
     "text": [
      "DataBatch: data shapes: [(3, 2)] label shapes: []\n",
      "data[0]: \n",
      "[[ 0.  1.]\n",
      " [ 2.  3.]\n",
      " [ 4.  5.]]\n",
      "<NDArray 3x2 @cpu(0)>\n"
     ]
    }
   ],
   "source": [
    "from mxnet import nd, io\n",
    "data = nd.arange(10).reshape((5,2))\n",
    "it = io.NDArrayIter(data, batch_size=3)\n",
    "batch = it.next()\n",
    "print(batch)\n",
    "print('data[0]:', batch.data[0])"
   ]
  },
  {
   "cell_type": "code",
   "execution_count": null,
   "metadata": {},
   "outputs": [],
   "source": [
    "it.reset()  \n",
    "for i, b in enumerate(it): \n",
    "    print('=== batch {} === {}\\n'.format(i, b.data[0]))"
   ]
  },
  {
   "cell_type": "markdown",
   "metadata": {},
   "source": [
    "The remaing of this tutorial will cover other iterators the `io` modules provides. \n",
    "\n",
    "## Iterating NDArray \n",
    "\n",
    "When data is loaded into memory.\n",
    "\n",
    "Since the number of examples are not evenly divied by the batch size, the last batch is padded with examples from the beginning. We can change this behavior to either padding with 0s or discarding the last batch. "
   ]
  },
  {
   "cell_type": "code",
   "execution_count": null,
   "metadata": {},
   "outputs": [],
   "source": [
    "it = io.NDArrayIter(data, batch_size=3, last_batch_handle='pad')\n",
    "for i, b in enumerate(it): \n",
    "    print('=== batch {} === {}\\n'.format(i, b.data[0]))\n",
    "    print('pad = {}\\n'.format(b.pad))"
   ]
  },
  {
   "cell_type": "code",
   "execution_count": null,
   "metadata": {},
   "outputs": [],
   "source": [
    "it = io.NDArrayIter(data, batch_size=3, last_batch_handle='discard')\n",
    "for i, b in enumerate(it): \n",
    "    print('=== batch {} === {}\\n'.format(i, b.data[0]))"
   ]
  },
  {
   "cell_type": "markdown",
   "metadata": {},
   "source": [
    "Deal with labels"
   ]
  },
  {
   "cell_type": "code",
   "execution_count": null,
   "metadata": {},
   "outputs": [],
   "source": [
    "label = nd.arange(5)\n",
    "it = io.NDArrayIter(data, label, batch_size=3)\n",
    "for i, b in enumerate(it): \n",
    "    print('=== batch {} ===\\ndata ={}\\n\\nlabel ={}\\n'.format(i, b.data[0], b.label[0]))"
   ]
  },
  {
   "cell_type": "markdown",
   "metadata": {},
   "source": [
    "Shuffle"
   ]
  },
  {
   "cell_type": "code",
   "execution_count": null,
   "metadata": {},
   "outputs": [],
   "source": [
    "it = io.NDArrayIter(data, batch_size=3, shuffle=True)\n",
    "for i, b in enumerate(it): \n",
    "    print('=== batch {} === {}\\n'.format(i, b.data[0]))"
   ]
  },
  {
   "cell_type": "markdown",
   "metadata": {},
   "source": [
    "## CVS iterator\n",
    "\n",
    "\n",
    "## Write your own customized data iterator\n",
    "\n"
   ]
  },
  {
   "cell_type": "code",
   "execution_count": 1,
   "metadata": {
    "collapsed": true
   },
   "outputs": [],
   "source": [
    "data = \"\"\"1,2\n",
    "2,3\n",
    "3,4\n",
    "4,5\n",
    "\"\"\"\n",
    "with open('data.csv', 'w') as f:\n",
    "    f.write(data)"
   ]
  },
  {
   "cell_type": "code",
   "execution_count": 3,
   "metadata": {
    "scrolled": false
   },
   "outputs": [
    {
     "name": "stdout",
     "output_type": "stream",
     "text": [
      "=== batch 0 === \n",
      "[[ 1.  2.]\n",
      " [ 2.  3.]\n",
      " [ 3.  4.]]\n",
      "<NDArray 3x2 @cpu(0)>\n",
      "\n",
      "=== batch 1 === \n",
      "[[ 4.  5.]\n",
      " [ 1.  2.]\n",
      " [ 2.  3.]]\n",
      "<NDArray 3x2 @cpu(0)>\n",
      "\n"
     ]
    }
   ],
   "source": [
    "it = io.CSVIter(data_csv='data.csv', data_shape=(2,), batch_size=3)\n",
    "for i, b in enumerate(it): \n",
    "    print('=== batch {} === {}\\n'.format(i, b.data[0]))"
   ]
  },
  {
   "cell_type": "markdown",
   "metadata": {},
   "source": [
    "## Record iterator\n",
    "\n",
    "for large binary files\n"
   ]
  },
  {
   "cell_type": "code",
   "execution_count": null,
   "metadata": {
    "collapsed": true
   },
   "outputs": [],
   "source": []
  }
 ],
 "metadata": {
  "kernelspec": {
   "display_name": "Python 3",
   "language": "python",
   "name": "python3"
  },
  "language_info": {
   "codemirror_mode": {
    "name": "ipython",
    "version": 3
   },
   "file_extension": ".py",
   "mimetype": "text/x-python",
   "name": "python",
   "nbconvert_exporter": "python",
   "pygments_lexer": "ipython3",
   "version": "3.6.1"
  }
 },
 "nbformat": 4,
 "nbformat_minor": 2
}
